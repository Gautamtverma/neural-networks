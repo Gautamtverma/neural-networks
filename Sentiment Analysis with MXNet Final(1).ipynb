{
 "cells": [
  {
   "cell_type": "code",
   "execution_count": 3,
   "metadata": {
    "collapsed": true
   },
   "outputs": [],
   "source": [
    "import os, io, sys\n",
    "import boto3\n",
    "import sagemaker\n",
    "from sagemaker.mxnet import MXNet\n",
    "from sagemaker import get_execution_role\n",
    "\n",
    "sagemaker_session = sagemaker.Session()"
   ]
  },
  {
   "cell_type": "code",
   "execution_count": 4,
   "metadata": {},
   "outputs": [
    {
     "name": "stderr",
     "output_type": "stream",
     "text": [
      "INFO:sagemaker:Created S3 bucket: sagemaker-us-east-1-821488635735\n"
     ]
    }
   ],
   "source": [
    "inputs = sagemaker_session.upload_data(path='data', key_prefix='data/mxn')"
   ]
  },
  {
   "cell_type": "code",
   "execution_count": 5,
   "metadata": {},
   "outputs": [
    {
     "data": {
      "text/plain": [
       "'s3://sagemaker-us-east-1-821488635735/data/mxn'"
      ]
     },
     "execution_count": 5,
     "metadata": {},
     "output_type": "execute_result"
    }
   ],
   "source": [
    "inputs"
   ]
  },
  {
   "cell_type": "code",
   "execution_count": 1,
   "metadata": {
    "collapsed": true
   },
   "outputs": [],
   "source": [
    "# !cat 'sentiment-analysis.py'"
   ]
  },
  {
   "cell_type": "code",
   "execution_count": 7,
   "metadata": {
    "collapsed": true
   },
   "outputs": [],
   "source": [
    "role = get_execution_role()\n",
    "\n",
    "m = MXNet(\"sentiment-analysis.py\", \n",
    "          role=role, \n",
    "          train_instance_count=1, \n",
    "          train_instance_type=\"ml.c5.4xlarge\",\n",
    "          hyperparameters={'batch_size': 8, \n",
    "                         'epochs': 2, \n",
    "                         'learning_rate': 0.01, \n",
    "                         'embedding_size': 50, \n",
    "                         'log_interval': 1000})"
   ]
  },
  {
   "cell_type": "code",
   "execution_count": 8,
   "metadata": {
    "scrolled": true
   },
   "outputs": [
    {
     "name": "stderr",
     "output_type": "stream",
     "text": [
      "INFO:sagemaker:Created S3 bucket: sagemaker-us-east-1-821488635735\n",
      "INFO:sagemaker:Creating training-job with name: sagemaker-mxnet-2018-06-27-14-59-24-300\n"
     ]
    },
    {
     "name": "stdout",
     "output_type": "stream",
     "text": [
      "...............\n",
      "\u001b[31m2018-06-27 15:01:32,001 INFO - root - running container entrypoint\u001b[0m\n",
      "\u001b[31m2018-06-27 15:01:32,002 INFO - root - starting train task\u001b[0m\n",
      "\u001b[31m2018-06-27 15:01:32,008 INFO - container_support.training - Training starting\u001b[0m\n",
      "\u001b[31m2018-06-27 15:01:34,001 INFO - mxnet_container.train - MXNetTrainingEnvironment: {'enable_cloudwatch_metrics': False, 'available_gpus': 0, 'channels': {u'training': {u'TrainingInputMode': u'File', u'RecordWrapperType': u'None', u'S3DistributionType': u'FullyReplicated'}}, '_ps_verbose': 0, 'resource_config': {u'current_host': u'algo-1', u'network_interface_name': u'ethwe', u'hosts': [u'algo-1']}, 'user_script_name': u'sentiment-analysis.py', 'input_config_dir': '/opt/ml/input/config', 'channel_dirs': {u'training': u'/opt/ml/input/data/training'}, 'code_dir': '/opt/ml/code', 'output_data_dir': '/opt/ml/output/data/', 'output_dir': '/opt/ml/output', 'model_dir': '/opt/ml/model', 'hyperparameters': {u'sagemaker_program': u'sentiment-analysis.py', u'embedding_size': 50, u'learning_rate': 0.01, u'log_interval': 1000, u'epochs': 2, u'batch_size': 8, u'sagemaker_region': u'us-east-1', u'sagemaker_enable_cloudwatch_metrics': False, u'sagemaker_job_name': u'sagemaker-mxnet-2018-06-27-14-59-24-300', u'sagemaker_container_log_level': 20, u'sagemaker_submit_directory': u's3://sagemaker-us-east-1-821488635735/sagemaker-mxnet-2018-06-27-14-59-24-300/source/sourcedir.tar.gz'}, 'hosts': [u'algo-1'], 'job_name': 'sagemaker-mxnet-2018-06-27-14-59-24-300', '_ps_port': 8000, 'user_script_archive': u's3://sagemaker-us-east-1-821488635735/sagemaker-mxnet-2018-06-27-14-59-24-300/source/sourcedir.tar.gz', '_scheduler_host': u'algo-1', 'sagemaker_region': u'us-east-1', '_scheduler_ip': '10.32.0.4', 'input_dir': '/opt/ml/input', 'user_requirements_file': None, 'current_host': u'algo-1', 'container_log_level': 20, 'available_cpus': 16, 'base_dir': '/opt/ml'}\u001b[0m\n",
      "\u001b[31mDownloading s3://sagemaker-us-east-1-821488635735/sagemaker-mxnet-2018-06-27-14-59-24-300/source/sourcedir.tar.gz to /tmp/script.tar.gz\u001b[0m\n",
      "\u001b[31m2018-06-27 15:01:34,077 INFO - botocore.vendored.requests.packages.urllib3.connectionpool - Starting new HTTP connection (1): 169.254.170.2\u001b[0m\n",
      "\u001b[31m2018-06-27 15:01:34,161 INFO - botocore.vendored.requests.packages.urllib3.connectionpool - Starting new HTTPS connection (1): sagemaker-us-east-1-821488635735.s3.amazonaws.com\u001b[0m\n",
      "\u001b[31m2018-06-27 15:01:34,279 INFO - mxnet_container.train - Starting distributed training task\u001b[0m\n",
      "\u001b[31mretrieve the hyperparameters\u001b[0m\n",
      "\u001b[31mWARNING: discarded 9 sentences longer than the largest bucket.\u001b[0m\n",
      "\u001b[31mWARNING: discarded 27 sentences longer than the largest bucket.\u001b[0m\n",
      "\u001b[31m[Epoch 0 Batch 1000] Training: accuracy=0.740260, 2643.746612 samples/s\u001b[0m\n",
      "\u001b[31m[Epoch 0 Batch 2000] Training: accuracy=0.777674, 2040.279217 samples/s\u001b[0m\n",
      "\u001b[31m[Epoch 0 Batch 3000] Training: accuracy=0.800608, 1799.358215 samples/s\u001b[0m\n",
      "\u001b[31m[Epoch 0 Batch 4000] Training: accuracy=0.814734, 1675.376073 samples/s\u001b[0m\n",
      "\u001b[31m[Epoch 0 Batch 5000] Training: accuracy=0.822960, 1680.326105 samples/s\u001b[0m\n",
      "\u001b[31m[Epoch 0 Batch 6000] Training: accuracy=0.830653, 1613.892165 samples/s\u001b[0m\n",
      "\u001b[31m[Epoch 0 Batch 7000] Training: accuracy=0.836023, 1859.177305 samples/s\u001b[0m\n",
      "\u001b[31m[Epoch 0 Batch 8000] Training: accuracy=0.839411, 1749.813934 samples/s\u001b[0m\n",
      "\u001b[31m[Epoch 0 Batch 9000] Training: accuracy=0.842615, 1543.158205 samples/s\u001b[0m\n",
      "\u001b[31m[Epoch 0] Training: accuracy=0.844574\u001b[0m\n",
      "\u001b[31m[Epoch 0] Validation: accuracy=0.809211\u001b[0m\n",
      "\u001b[31m[Epoch 1 Batch 1000] Training: accuracy=0.900475, 1555.534375 samples/s\u001b[0m\n",
      "\u001b[31m[Epoch 1 Batch 2000] Training: accuracy=0.900800, 1518.025335 samples/s\u001b[0m\n",
      "\u001b[31m[Epoch 1 Batch 3000] Training: accuracy=0.899617, 1609.711298 samples/s\u001b[0m\n",
      "\u001b[31m[Epoch 1 Batch 4000] Training: accuracy=0.899619, 1678.225068 samples/s\u001b[0m\n",
      "\u001b[31m[Epoch 1 Batch 5000] Training: accuracy=0.899095, 1446.187053 samples/s\u001b[0m\n",
      "\u001b[31m[Epoch 1 Batch 6000] Training: accuracy=0.897559, 1553.445926 samples/s\u001b[0m\n",
      "\u001b[31m[Epoch 1 Batch 7000] Training: accuracy=0.896890, 1593.883337 samples/s\u001b[0m\n",
      "\u001b[31m[Epoch 1 Batch 8000] Training: accuracy=0.896919, 1678.225068 samples/s\u001b[0m\n",
      "\u001b[31m[Epoch 1 Batch 9000] Training: accuracy=0.895900, 1600.650289 samples/s\u001b[0m\n",
      "\u001b[31m[Epoch 1] Training: accuracy=0.895241\u001b[0m\n",
      "\u001b[31m[Epoch 1] Validation: accuracy=0.819976\u001b[0m\n",
      "\u001b[31mVocabulary saved to \"%s\" /opt/ml/model/vocab.json\u001b[0m\n",
      "===== Job Complete =====\n",
      "Billable seconds: 150\n"
     ]
    }
   ],
   "source": [
    "m.fit(inputs)"
   ]
  },
  {
   "cell_type": "code",
   "execution_count": 9,
   "metadata": {
    "scrolled": false
   },
   "outputs": [
    {
     "name": "stderr",
     "output_type": "stream",
     "text": [
      "INFO:sagemaker:Creating model with name: sagemaker-mxnet-2018-06-27-14-59-24-300\n",
      "INFO:sagemaker:Creating endpoint with name sagemaker-mxnet-2018-06-27-14-59-24-300\n"
     ]
    },
    {
     "name": "stdout",
     "output_type": "stream",
     "text": [
      "--------------------------------------------------------------!"
     ]
    }
   ],
   "source": [
    "predictor = m.deploy(initial_instance_count=1, instance_type='ml.c5.4xlarge')"
   ]
  },
  {
   "cell_type": "code",
   "execution_count": 11,
   "metadata": {},
   "outputs": [
    {
     "data": {
      "text/plain": [
       "[0]"
      ]
     },
     "execution_count": 11,
     "metadata": {},
     "output_type": "execute_result"
    }
   ],
   "source": [
    "predictor.predict([\"I went and saw this movie last night after being coaxed to by a few friends of mine. I'll admit that I was reluctant to see it because from what I knew of Ashton Kutcher he was only able to do comedy. I was wrong. Kutcher played the character of Jake Fischer very well, and Kevin Costner played Ben Randall with such professionalism. The sign of a good movie is that it can toy with our emotions. This one did exactly that. The entire theater (which was sold out) was overcome by laughter during the first half of the movie, and were moved to tears during the second half. While exiting the theater I not only saw many women in tears, but many full grown men as well, trying desperately not to let anyone see them crying. This movie was great, and I suggest that you go see it before you judge.\"])"
   ]
  }
 ],
 "metadata": {
  "kernelspec": {
   "display_name": "Python 3",
   "language": "python",
   "name": "python3"
  },
  "language_info": {
   "codemirror_mode": {
    "name": "ipython",
    "version": 3
   },
   "file_extension": ".py",
   "mimetype": "text/x-python",
   "name": "python",
   "nbconvert_exporter": "python",
   "pygments_lexer": "ipython3",
   "version": "3.6.1"
  }
 },
 "nbformat": 4,
 "nbformat_minor": 2
}
