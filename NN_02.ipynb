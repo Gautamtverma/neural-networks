{
 "cells": [
  {
   "cell_type": "markdown",
   "metadata": {},
   "source": [
    "Goal- Predict customer churn for a bank using its customer's behavior data"
   ]
  },
  {
   "cell_type": "code",
   "execution_count": 1,
   "metadata": {
    "scrolled": true
   },
   "outputs": [
    {
     "name": "stderr",
     "output_type": "stream",
     "text": [
      "Using TensorFlow backend.\n"
     ]
    }
   ],
   "source": [
    "import keras #install keras, theano, tensorflow"
   ]
  },
  {
   "cell_type": "code",
   "execution_count": 3,
   "metadata": {},
   "outputs": [],
   "source": [
    "# Importing the libraries\n",
    "import numpy as np\n",
    "import matplotlib.pyplot as plt\n",
    "import pandas as pd\n",
    "# Importing the dataset\n",
    "\n",
    "dataset = pd.read_csv('C:\\Train\\Datasets/Churn_Modelling.csv')"
   ]
  },
  {
   "cell_type": "code",
   "execution_count": 25,
   "metadata": {
    "scrolled": true
   },
   "outputs": [
    {
     "data": {
      "text/html": [
       "<div>\n",
       "<style>\n",
       "    .dataframe thead tr:only-child th {\n",
       "        text-align: right;\n",
       "    }\n",
       "\n",
       "    .dataframe thead th {\n",
       "        text-align: left;\n",
       "    }\n",
       "\n",
       "    .dataframe tbody tr th {\n",
       "        vertical-align: top;\n",
       "    }\n",
       "</style>\n",
       "<table border=\"1\" class=\"dataframe\">\n",
       "  <thead>\n",
       "    <tr style=\"text-align: right;\">\n",
       "      <th></th>\n",
       "      <th>RowNumber</th>\n",
       "      <th>CustomerId</th>\n",
       "      <th>Surname</th>\n",
       "      <th>CreditScore</th>\n",
       "      <th>Geography</th>\n",
       "      <th>Gender</th>\n",
       "      <th>Age</th>\n",
       "      <th>Tenure</th>\n",
       "      <th>Balance</th>\n",
       "      <th>NumOfProducts</th>\n",
       "      <th>HasCrCard</th>\n",
       "      <th>IsActiveMember</th>\n",
       "      <th>EstimatedSalary</th>\n",
       "      <th>Exited</th>\n",
       "    </tr>\n",
       "  </thead>\n",
       "  <tbody>\n",
       "    <tr>\n",
       "      <th>0</th>\n",
       "      <td>1</td>\n",
       "      <td>15634602</td>\n",
       "      <td>Hargrave</td>\n",
       "      <td>619</td>\n",
       "      <td>France</td>\n",
       "      <td>Female</td>\n",
       "      <td>42</td>\n",
       "      <td>2</td>\n",
       "      <td>0.00</td>\n",
       "      <td>1</td>\n",
       "      <td>1</td>\n",
       "      <td>1</td>\n",
       "      <td>101348.88</td>\n",
       "      <td>1</td>\n",
       "    </tr>\n",
       "    <tr>\n",
       "      <th>1</th>\n",
       "      <td>2</td>\n",
       "      <td>15647311</td>\n",
       "      <td>Hill</td>\n",
       "      <td>608</td>\n",
       "      <td>Spain</td>\n",
       "      <td>Female</td>\n",
       "      <td>41</td>\n",
       "      <td>1</td>\n",
       "      <td>83807.86</td>\n",
       "      <td>1</td>\n",
       "      <td>0</td>\n",
       "      <td>1</td>\n",
       "      <td>112542.58</td>\n",
       "      <td>0</td>\n",
       "    </tr>\n",
       "    <tr>\n",
       "      <th>2</th>\n",
       "      <td>3</td>\n",
       "      <td>15619304</td>\n",
       "      <td>Onio</td>\n",
       "      <td>502</td>\n",
       "      <td>France</td>\n",
       "      <td>Female</td>\n",
       "      <td>42</td>\n",
       "      <td>8</td>\n",
       "      <td>159660.80</td>\n",
       "      <td>3</td>\n",
       "      <td>1</td>\n",
       "      <td>0</td>\n",
       "      <td>113931.57</td>\n",
       "      <td>1</td>\n",
       "    </tr>\n",
       "    <tr>\n",
       "      <th>3</th>\n",
       "      <td>4</td>\n",
       "      <td>15701354</td>\n",
       "      <td>Boni</td>\n",
       "      <td>699</td>\n",
       "      <td>France</td>\n",
       "      <td>Female</td>\n",
       "      <td>39</td>\n",
       "      <td>1</td>\n",
       "      <td>0.00</td>\n",
       "      <td>2</td>\n",
       "      <td>0</td>\n",
       "      <td>0</td>\n",
       "      <td>93826.63</td>\n",
       "      <td>0</td>\n",
       "    </tr>\n",
       "    <tr>\n",
       "      <th>4</th>\n",
       "      <td>5</td>\n",
       "      <td>15737888</td>\n",
       "      <td>Mitchell</td>\n",
       "      <td>850</td>\n",
       "      <td>Spain</td>\n",
       "      <td>Female</td>\n",
       "      <td>43</td>\n",
       "      <td>2</td>\n",
       "      <td>125510.82</td>\n",
       "      <td>1</td>\n",
       "      <td>1</td>\n",
       "      <td>1</td>\n",
       "      <td>79084.10</td>\n",
       "      <td>0</td>\n",
       "    </tr>\n",
       "  </tbody>\n",
       "</table>\n",
       "</div>"
      ],
      "text/plain": [
       "   RowNumber  CustomerId   Surname  CreditScore Geography  Gender  Age  \\\n",
       "0          1    15634602  Hargrave          619    France  Female   42   \n",
       "1          2    15647311      Hill          608     Spain  Female   41   \n",
       "2          3    15619304      Onio          502    France  Female   42   \n",
       "3          4    15701354      Boni          699    France  Female   39   \n",
       "4          5    15737888  Mitchell          850     Spain  Female   43   \n",
       "\n",
       "   Tenure    Balance  NumOfProducts  HasCrCard  IsActiveMember  \\\n",
       "0       2       0.00              1          1               1   \n",
       "1       1   83807.86              1          0               1   \n",
       "2       8  159660.80              3          1               0   \n",
       "3       1       0.00              2          0               0   \n",
       "4       2  125510.82              1          1               1   \n",
       "\n",
       "   EstimatedSalary  Exited  \n",
       "0        101348.88       1  \n",
       "1        112542.58       0  \n",
       "2        113931.57       1  \n",
       "3         93826.63       0  \n",
       "4         79084.10       0  "
      ]
     },
     "execution_count": 25,
     "metadata": {},
     "output_type": "execute_result"
    }
   ],
   "source": [
    "dataset.head(5)"
   ]
  },
  {
   "cell_type": "code",
   "execution_count": 27,
   "metadata": {
    "collapsed": true
   },
   "outputs": [],
   "source": [
    "#separating the independent variables and my dependent variable\n",
    "X = dataset.iloc[:, 3:13].values\n",
    "y = dataset.iloc[:, 13].values"
   ]
  },
  {
   "cell_type": "code",
   "execution_count": 28,
   "metadata": {
    "collapsed": true
   },
   "outputs": [],
   "source": [
    "#Coding our training data\n",
    "\n",
    "from sklearn.preprocessing import LabelEncoder, OneHotEncoder\n",
    "labelencoder_X_1 = LabelEncoder()\n",
    "X[:, 1] = labelencoder_X_1.fit_transform(X[:, 1])\n",
    "labelencoder_X_2 = LabelEncoder()\n",
    "X[:, 2] = labelencoder_X_2.fit_transform(X[:, 2])"
   ]
  },
  {
   "cell_type": "code",
   "execution_count": 31,
   "metadata": {},
   "outputs": [
    {
     "data": {
      "text/plain": [
       "array([[608, 2, 0, 41, 1, 83807.86, 1, 0, 1, 112542.58],\n",
       "       [502, 0, 0, 42, 8, 159660.8, 3, 1, 0, 113931.57],\n",
       "       [699, 0, 0, 39, 1, 0.0, 2, 0, 0, 93826.63]], dtype=object)"
      ]
     },
     "execution_count": 31,
     "metadata": {},
     "output_type": "execute_result"
    }
   ],
   "source": [
    "X[1:4,]"
   ]
  },
  {
   "cell_type": "code",
   "execution_count": 35,
   "metadata": {
    "collapsed": true
   },
   "outputs": [],
   "source": [
    "#Overcoming the shortcomings of LabelEncoding by creating sparse matrix\n",
    "\n",
    "onehotencoder = OneHotEncoder(categorical_features = [1])\n",
    "X = onehotencoder.fit_transform(X).toarray()\n",
    "#X = X[:, 1:]"
   ]
  },
  {
   "cell_type": "code",
   "execution_count": 36,
   "metadata": {},
   "outputs": [
    {
     "data": {
      "text/plain": [
       "array([[0.0000000e+00, 1.0000000e+00, 0.0000000e+00, 6.0800000e+02,\n",
       "        0.0000000e+00, 4.1000000e+01, 1.0000000e+00, 8.3807860e+04,\n",
       "        1.0000000e+00, 0.0000000e+00, 1.0000000e+00, 1.1254258e+05],\n",
       "       [1.0000000e+00, 0.0000000e+00, 0.0000000e+00, 5.0200000e+02,\n",
       "        0.0000000e+00, 4.2000000e+01, 8.0000000e+00, 1.5966080e+05,\n",
       "        3.0000000e+00, 1.0000000e+00, 0.0000000e+00, 1.1393157e+05],\n",
       "       [1.0000000e+00, 0.0000000e+00, 0.0000000e+00, 6.9900000e+02,\n",
       "        0.0000000e+00, 3.9000000e+01, 1.0000000e+00, 0.0000000e+00,\n",
       "        2.0000000e+00, 0.0000000e+00, 0.0000000e+00, 9.3826630e+04]])"
      ]
     },
     "execution_count": 36,
     "metadata": {},
     "output_type": "execute_result"
    }
   ],
   "source": [
    "X[1:4,]"
   ]
  },
  {
   "cell_type": "code",
   "execution_count": 37,
   "metadata": {},
   "outputs": [],
   "source": [
    "# Splitting the dataset into the Training set and Test set\n",
    "from sklearn.model_selection import train_test_split\n",
    "X_train, X_test, y_train, y_test = train_test_split(X, y, test_size = 0.2)"
   ]
  },
  {
   "cell_type": "code",
   "execution_count": 38,
   "metadata": {
    "collapsed": true
   },
   "outputs": [],
   "source": [
    "# Feature Scaling\n",
    "from sklearn.preprocessing import StandardScaler\n",
    "sc = StandardScaler()\n",
    "X_train = sc.fit_transform(X_train)\n",
    "X_test = sc.transform(X_test)"
   ]
  },
  {
   "cell_type": "code",
   "execution_count": 39,
   "metadata": {
    "collapsed": true
   },
   "outputs": [],
   "source": [
    "from keras.models import Sequential #initialize the neural network\n",
    "from keras.layers import Dense #adding hidden layers"
   ]
  },
  {
   "cell_type": "code",
   "execution_count": 40,
   "metadata": {
    "collapsed": true
   },
   "outputs": [],
   "source": [
    "#Initializing Neural Network\n",
    "classifier = Sequential()"
   ]
  },
  {
   "cell_type": "code",
   "execution_count": 41,
   "metadata": {},
   "outputs": [
    {
     "name": "stderr",
     "output_type": "stream",
     "text": [
      "C:\\Users\\Gautam\\Anaconda3\\lib\\site-packages\\ipykernel_launcher.py:6: UserWarning: Update your `Dense` call to the Keras 2 API: `Dense(activation=\"relu\", input_dim=12, units=6, kernel_initializer=\"uniform\")`\n",
      "  \n",
      "C:\\Users\\Gautam\\Anaconda3\\lib\\site-packages\\ipykernel_launcher.py:8: UserWarning: Update your `Dense` call to the Keras 2 API: `Dense(activation=\"relu\", units=6, kernel_initializer=\"uniform\")`\n",
      "  \n",
      "C:\\Users\\Gautam\\Anaconda3\\lib\\site-packages\\ipykernel_launcher.py:10: UserWarning: Update your `Dense` call to the Keras 2 API: `Dense(activation=\"sigmoid\", units=1, kernel_initializer=\"uniform\")`\n",
      "  # Remove the CWD from sys.path while we load stuff.\n"
     ]
    }
   ],
   "source": [
    "# Adding the input layer and the first hidden layer\n",
    "#output_dim= no. of nodes to that layer\n",
    "#init= initialization of stochastic gradient descent\n",
    "#input_dim= no. of input parameters, needed only for the first layer\n",
    "\n",
    "classifier.add(Dense(output_dim = 6, init = 'uniform', activation = 'relu', input_dim = 12))\n",
    "# Adding the second hidden layer\n",
    "classifier.add(Dense(output_dim = 6, init = 'uniform', activation = 'relu'))\n",
    "# Adding the output layer, relevance of sigmoid and softmax\n",
    "classifier.add(Dense(output_dim = 1, init = 'uniform', activation = 'sigmoid'))"
   ]
  },
  {
   "cell_type": "code",
   "execution_count": 42,
   "metadata": {
    "collapsed": true
   },
   "outputs": [],
   "source": [
    "# Compiling Neural Network\n",
    "#optimizer= adam as the stochastic gradient descent type\n",
    "#loss= use logarithmic loss function. Since ours is a binary dependent variable, hence- binary_crossentropy\n",
    "#metrics= model tuning based on accuracy\n",
    "\n",
    "classifier.compile(optimizer = 'adam', loss = 'binary_crossentropy', metrics = ['accuracy'])"
   ]
  },
  {
   "cell_type": "code",
   "execution_count": 43,
   "metadata": {},
   "outputs": [
    {
     "name": "stderr",
     "output_type": "stream",
     "text": [
      "C:\\Users\\Gautam\\Anaconda3\\lib\\site-packages\\ipykernel_launcher.py:2: UserWarning: The `nb_epoch` argument in `fit` has been renamed `epochs`.\n",
      "  \n"
     ]
    },
    {
     "name": "stdout",
     "output_type": "stream",
     "text": [
      "Epoch 1/100\n",
      "8000/8000 [==============================] - 1s 125us/step - loss: 0.4853 - acc: 0.7959\n",
      "Epoch 2/100\n",
      "8000/8000 [==============================] - 1s 91us/step - loss: 0.4272 - acc: 0.7960\n",
      "Epoch 3/100\n",
      "8000/8000 [==============================] - 1s 90us/step - loss: 0.4213 - acc: 0.8037\n",
      "Epoch 4/100\n",
      "8000/8000 [==============================] - 1s 90us/step - loss: 0.4180 - acc: 0.8254\n",
      "Epoch 5/100\n",
      "8000/8000 [==============================] - 1s 91us/step - loss: 0.4163 - acc: 0.8279\n",
      "Epoch 6/100\n",
      "8000/8000 [==============================] - 1s 91us/step - loss: 0.4140 - acc: 0.8285\n",
      "Epoch 7/100\n",
      "8000/8000 [==============================] - 1s 114us/step - loss: 0.4131 - acc: 0.8306\n",
      "Epoch 8/100\n",
      "8000/8000 [==============================] - 1s 108us/step - loss: 0.4122 - acc: 0.8310\n",
      "Epoch 9/100\n",
      "8000/8000 [==============================] - 1s 92us/step - loss: 0.4115 - acc: 0.8311\n",
      "Epoch 10/100\n",
      "8000/8000 [==============================] - 1s 90us/step - loss: 0.4105 - acc: 0.8317\n",
      "Epoch 11/100\n",
      "8000/8000 [==============================] - 1s 93us/step - loss: 0.4101 - acc: 0.8321\n",
      "Epoch 12/100\n",
      "8000/8000 [==============================] - 1s 92us/step - loss: 0.4095 - acc: 0.8327\n",
      "Epoch 13/100\n",
      "8000/8000 [==============================] - 1s 94us/step - loss: 0.4088 - acc: 0.8332\n",
      "Epoch 14/100\n",
      "8000/8000 [==============================] - 1s 95us/step - loss: 0.4078 - acc: 0.8339\n",
      "Epoch 15/100\n",
      "8000/8000 [==============================] - 1s 93us/step - loss: 0.4078 - acc: 0.8332\n",
      "Epoch 16/100\n",
      "8000/8000 [==============================] - 1s 92us/step - loss: 0.4076 - acc: 0.8341\n",
      "Epoch 17/100\n",
      "8000/8000 [==============================] - 1s 91us/step - loss: 0.4071 - acc: 0.8335\n",
      "Epoch 18/100\n",
      "8000/8000 [==============================] - 1s 92us/step - loss: 0.4062 - acc: 0.8340\n",
      "Epoch 19/100\n",
      "8000/8000 [==============================] - 1s 92us/step - loss: 0.4065 - acc: 0.8335\n",
      "Epoch 20/100\n",
      "8000/8000 [==============================] - 1s 93us/step - loss: 0.4062 - acc: 0.8332\n",
      "Epoch 21/100\n",
      "8000/8000 [==============================] - 1s 92us/step - loss: 0.4057 - acc: 0.8340\n",
      "Epoch 22/100\n",
      "8000/8000 [==============================] - 1s 93us/step - loss: 0.4055 - acc: 0.8337\n",
      "Epoch 23/100\n",
      "8000/8000 [==============================] - 1s 90us/step - loss: 0.4049 - acc: 0.8341\n",
      "Epoch 24/100\n",
      "8000/8000 [==============================] - 1s 93us/step - loss: 0.4052 - acc: 0.8326\n",
      "Epoch 25/100\n",
      "8000/8000 [==============================] - 1s 92us/step - loss: 0.4047 - acc: 0.8336\n",
      "Epoch 26/100\n",
      "8000/8000 [==============================] - 1s 93us/step - loss: 0.4044 - acc: 0.8334\n",
      "Epoch 27/100\n",
      "8000/8000 [==============================] - 1s 93us/step - loss: 0.4050 - acc: 0.8331\n",
      "Epoch 28/100\n",
      "8000/8000 [==============================] - 1s 109us/step - loss: 0.4043 - acc: 0.8336\n",
      "Epoch 29/100\n",
      "8000/8000 [==============================] - 1s 114us/step - loss: 0.4038 - acc: 0.8341\n",
      "Epoch 30/100\n",
      "8000/8000 [==============================] - 1s 94us/step - loss: 0.4038 - acc: 0.8335\n",
      "Epoch 31/100\n",
      "8000/8000 [==============================] - 1s 93us/step - loss: 0.4039 - acc: 0.8332\n",
      "Epoch 32/100\n",
      "8000/8000 [==============================] - 1s 93us/step - loss: 0.4039 - acc: 0.8332\n",
      "Epoch 33/100\n",
      "8000/8000 [==============================] - 1s 97us/step - loss: 0.4037 - acc: 0.8337\n",
      "Epoch 34/100\n",
      "8000/8000 [==============================] - 1s 116us/step - loss: 0.4040 - acc: 0.8332\n",
      "Epoch 35/100\n",
      "8000/8000 [==============================] - 1s 98us/step - loss: 0.4031 - acc: 0.8341\n",
      "Epoch 36/100\n",
      "8000/8000 [==============================] - 1s 109us/step - loss: 0.4036 - acc: 0.8335\n",
      "Epoch 37/100\n",
      "8000/8000 [==============================] - 1s 107us/step - loss: 0.4032 - acc: 0.8327\n",
      "Epoch 38/100\n",
      "8000/8000 [==============================] - 1s 115us/step - loss: 0.4031 - acc: 0.8329\n",
      "Epoch 39/100\n",
      "8000/8000 [==============================] - 1s 94us/step - loss: 0.4035 - acc: 0.8337\n",
      "Epoch 40/100\n",
      "8000/8000 [==============================] - 1s 124us/step - loss: 0.4034 - acc: 0.8329\n",
      "Epoch 41/100\n",
      "8000/8000 [==============================] - 1s 114us/step - loss: 0.4026 - acc: 0.8332\n",
      "Epoch 42/100\n",
      "8000/8000 [==============================] - 1s 95us/step - loss: 0.4033 - acc: 0.8345\n",
      "Epoch 43/100\n",
      "8000/8000 [==============================] - 1s 94us/step - loss: 0.4024 - acc: 0.8342\n",
      "Epoch 44/100\n",
      "8000/8000 [==============================] - 1s 94us/step - loss: 0.4031 - acc: 0.8335\n",
      "Epoch 45/100\n",
      "8000/8000 [==============================] - 1s 119us/step - loss: 0.4026 - acc: 0.8325\n",
      "Epoch 46/100\n",
      "8000/8000 [==============================] - 1s 113us/step - loss: 0.4028 - acc: 0.8337\n",
      "Epoch 47/100\n",
      "8000/8000 [==============================] - 1s 113us/step - loss: 0.4032 - acc: 0.8325\n",
      "Epoch 48/100\n",
      "8000/8000 [==============================] - 1s 115us/step - loss: 0.4024 - acc: 0.8342\n",
      "Epoch 49/100\n",
      "8000/8000 [==============================] - 1s 103us/step - loss: 0.4025 - acc: 0.8335\n",
      "Epoch 50/100\n",
      "8000/8000 [==============================] - 1s 112us/step - loss: 0.4025 - acc: 0.8334\n",
      "Epoch 51/100\n",
      "8000/8000 [==============================] - 1s 127us/step - loss: 0.4026 - acc: 0.8329\n",
      "Epoch 52/100\n",
      "8000/8000 [==============================] - 1s 111us/step - loss: 0.4024 - acc: 0.8334\n",
      "Epoch 53/100\n",
      "8000/8000 [==============================] - 1s 114us/step - loss: 0.4028 - acc: 0.8342\n",
      "Epoch 54/100\n",
      "8000/8000 [==============================] - 1s 123us/step - loss: 0.4028 - acc: 0.8337\n",
      "Epoch 55/100\n",
      "8000/8000 [==============================] - 1s 105us/step - loss: 0.4023 - acc: 0.8332\n",
      "Epoch 56/100\n",
      "8000/8000 [==============================] - 1s 97us/step - loss: 0.4022 - acc: 0.8346\n",
      "Epoch 57/100\n",
      "8000/8000 [==============================] - 1s 97us/step - loss: 0.4022 - acc: 0.8345\n",
      "Epoch 58/100\n",
      "8000/8000 [==============================] - 1s 95us/step - loss: 0.4025 - acc: 0.8336\n",
      "Epoch 59/100\n",
      "8000/8000 [==============================] - 1s 99us/step - loss: 0.4026 - acc: 0.8327\n",
      "Epoch 60/100\n",
      "8000/8000 [==============================] - 1s 117us/step - loss: 0.4021 - acc: 0.8324\n",
      "Epoch 61/100\n",
      "8000/8000 [==============================] - 1s 103us/step - loss: 0.4021 - acc: 0.8335\n",
      "Epoch 62/100\n",
      "8000/8000 [==============================] - 1s 94us/step - loss: 0.4021 - acc: 0.8345\n",
      "Epoch 63/100\n",
      "8000/8000 [==============================] - 1s 94us/step - loss: 0.4023 - acc: 0.8342\n",
      "Epoch 64/100\n",
      "8000/8000 [==============================] - 1s 97us/step - loss: 0.4020 - acc: 0.8327\n",
      "Epoch 65/100\n",
      "8000/8000 [==============================] - 1s 94us/step - loss: 0.4018 - acc: 0.8350\n",
      "Epoch 66/100\n",
      "8000/8000 [==============================] - 1s 114us/step - loss: 0.4022 - acc: 0.8340\n",
      "Epoch 67/100\n",
      "8000/8000 [==============================] - 1s 120us/step - loss: 0.4019 - acc: 0.8336\n",
      "Epoch 68/100\n",
      "8000/8000 [==============================] - 1s 100us/step - loss: 0.4025 - acc: 0.8319\n",
      "Epoch 69/100\n",
      "8000/8000 [==============================] - 1s 98us/step - loss: 0.4020 - acc: 0.8326\n",
      "Epoch 70/100\n",
      "8000/8000 [==============================] - 1s 98us/step - loss: 0.4019 - acc: 0.8340\n",
      "Epoch 71/100\n",
      "8000/8000 [==============================] - 1s 96us/step - loss: 0.4019 - acc: 0.8332\n",
      "Epoch 72/100\n",
      "8000/8000 [==============================] - 1s 97us/step - loss: 0.4022 - acc: 0.8347\n",
      "Epoch 73/100\n",
      "8000/8000 [==============================] - 1s 95us/step - loss: 0.4018 - acc: 0.8335\n",
      "Epoch 74/100\n",
      "8000/8000 [==============================] - 1s 96us/step - loss: 0.4019 - acc: 0.8329\n",
      "Epoch 75/100\n",
      "8000/8000 [==============================] - 1s 99us/step - loss: 0.4018 - acc: 0.8340\n",
      "Epoch 76/100\n",
      "8000/8000 [==============================] - 1s 97us/step - loss: 0.4016 - acc: 0.8331\n",
      "Epoch 77/100\n",
      "8000/8000 [==============================] - 1s 97us/step - loss: 0.4016 - acc: 0.8339\n",
      "Epoch 78/100\n",
      "8000/8000 [==============================] - 1s 97us/step - loss: 0.4018 - acc: 0.8340\n",
      "Epoch 79/100\n",
      "8000/8000 [==============================] - 1s 97us/step - loss: 0.4010 - acc: 0.8334\n",
      "Epoch 80/100\n",
      "8000/8000 [==============================] - 1s 107us/step - loss: 0.4018 - acc: 0.8322\n",
      "Epoch 81/100\n",
      "8000/8000 [==============================] - 1s 103us/step - loss: 0.4019 - acc: 0.8336\n",
      "Epoch 82/100\n"
     ]
    },
    {
     "name": "stdout",
     "output_type": "stream",
     "text": [
      "8000/8000 [==============================] - 1s 93us/step - loss: 0.4017 - acc: 0.8330\n",
      "Epoch 83/100\n",
      "8000/8000 [==============================] - 1s 105us/step - loss: 0.4022 - acc: 0.8334\n",
      "Epoch 84/100\n",
      "8000/8000 [==============================] - 1s 90us/step - loss: 0.4015 - acc: 0.8331\n",
      "Epoch 85/100\n",
      "8000/8000 [==============================] - 1s 88us/step - loss: 0.4016 - acc: 0.8334\n",
      "Epoch 86/100\n",
      "8000/8000 [==============================] - 1s 106us/step - loss: 0.4017 - acc: 0.8349\n",
      "Epoch 87/100\n",
      "8000/8000 [==============================] - 1s 111us/step - loss: 0.4019 - acc: 0.8346\n",
      "Epoch 88/100\n",
      "8000/8000 [==============================] - 1s 92us/step - loss: 0.4014 - acc: 0.8335\n",
      "Epoch 89/100\n",
      "8000/8000 [==============================] - 1s 90us/step - loss: 0.4016 - acc: 0.8342\n",
      "Epoch 90/100\n",
      "8000/8000 [==============================] - 1s 88us/step - loss: 0.4017 - acc: 0.8337\n",
      "Epoch 91/100\n",
      "8000/8000 [==============================] - 1s 89us/step - loss: 0.4009 - acc: 0.8334\n",
      "Epoch 92/100\n",
      "8000/8000 [==============================] - 1s 91us/step - loss: 0.4011 - acc: 0.8339\n",
      "Epoch 93/100\n",
      "8000/8000 [==============================] - 1s 88us/step - loss: 0.4014 - acc: 0.8329\n",
      "Epoch 94/100\n",
      "8000/8000 [==============================] - 1s 88us/step - loss: 0.4013 - acc: 0.8351\n",
      "Epoch 95/100\n",
      "8000/8000 [==============================] - 1s 92us/step - loss: 0.4013 - acc: 0.8329\n",
      "Epoch 96/100\n",
      "8000/8000 [==============================] - 1s 91us/step - loss: 0.4014 - acc: 0.8344\n",
      "Epoch 97/100\n",
      "8000/8000 [==============================] - 1s 89us/step - loss: 0.4011 - acc: 0.8345\n",
      "Epoch 98/100\n",
      "8000/8000 [==============================] - 1s 105us/step - loss: 0.4014 - acc: 0.8345\n",
      "Epoch 99/100\n",
      "8000/8000 [==============================] - 1s 103us/step - loss: 0.4009 - acc: 0.8344\n",
      "Epoch 100/100\n",
      "8000/8000 [==============================] - 1s 124us/step - loss: 0.4019 - acc: 0.8351\n"
     ]
    },
    {
     "data": {
      "text/plain": [
       "<keras.callbacks.History at 0x28f359b9518>"
      ]
     },
     "execution_count": 43,
     "metadata": {},
     "output_type": "execute_result"
    }
   ],
   "source": [
    "# Fitting our model \n",
    "classifier.fit(X_train, y_train, batch_size = 10, nb_epoch = 500)"
   ]
  },
  {
   "cell_type": "code",
   "execution_count": 51,
   "metadata": {
    "collapsed": true
   },
   "outputs": [],
   "source": [
    "# Predicting the Test set results\n",
    "y_pred = classifier.predict(X_test)\n",
    "y_pred = (y_pred > 0.7)"
   ]
  },
  {
   "cell_type": "code",
   "execution_count": 52,
   "metadata": {},
   "outputs": [
    {
     "data": {
      "text/plain": [
       "array([[1585,   10],\n",
       "       [ 342,   63]], dtype=int64)"
      ]
     },
     "execution_count": 52,
     "metadata": {},
     "output_type": "execute_result"
    }
   ],
   "source": [
    "# Creating the Confusion Matrix\n",
    "from sklearn.metrics import confusion_matrix\n",
    "confusion_matrix(y_test, y_pred)\n"
   ]
  },
  {
   "cell_type": "code",
   "execution_count": 53,
   "metadata": {},
   "outputs": [
    {
     "data": {
      "text/plain": [
       "0.824"
      ]
     },
     "execution_count": 53,
     "metadata": {},
     "output_type": "execute_result"
    }
   ],
   "source": [
    "from sklearn.metrics import accuracy_score\n",
    "accuracy_score(y_test,y_pred)"
   ]
  }
 ],
 "metadata": {
  "kernelspec": {
   "display_name": "Python 3",
   "language": "python",
   "name": "python3"
  },
  "language_info": {
   "codemirror_mode": {
    "name": "ipython",
    "version": 3
   },
   "file_extension": ".py",
   "mimetype": "text/x-python",
   "name": "python",
   "nbconvert_exporter": "python",
   "pygments_lexer": "ipython3",
   "version": "3.6.1"
  }
 },
 "nbformat": 4,
 "nbformat_minor": 2
}
